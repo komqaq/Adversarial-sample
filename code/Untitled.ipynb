{
 "cells": [
  {
   "cell_type": "code",
   "execution_count": 1,
   "metadata": {},
   "outputs": [],
   "source": [
    "import os\n",
    "import sys\n",
    "import cv2\n",
    "import torch\n",
    "import numpy as np\n",
    "from numpy import *\n",
    "from torch import nn\n",
    "from torchvision import models\n",
    "from torch.autograd import Variable\n",
    "import torchvision.transforms as trans\n",
    "import matplotlib.pyplot as plt\n",
    "import multiprocessing\n",
    "from tqdm import tqdm\n",
    "import cifar10_models\n",
    "import copy\n",
    "import ssl"
   ]
  },
  {
   "cell_type": "code",
   "execution_count": 2,
   "metadata": {},
   "outputs": [],
   "source": [
    "CF=[]\n",
    "IMG=[]"
   ]
  },
  {
   "cell_type": "code",
   "execution_count": 3,
   "metadata": {},
   "outputs": [],
   "source": [
    "IMAGENET_SIZE = 224\n",
    "IMAGENET_MEAN = [0.485, 0.456, 0.406]\n",
    "IMAGENET_STD = [0.229, 0.224, 0.225]\n",
    "\n",
    "CIFAR_SIZE = 32\n",
    "CIFAR_MEAN = [0.4914, 0.4822, 0.4465]\n",
    "CIFAR_STD = [0.2023, 0.1994, 0.2010]\n",
    "\n",
    "MNIST_SIZE = 28\n",
    "MNIST_MEAN = [0.5]\n",
    "MNIST_STD = [1.0]\n",
    "def preprocess_image(cv2im,source='cifar'):\n",
    "    if source == 'imagenet':\n",
    "        mean = IMAGENET_MEAN\n",
    "        std = IMAGENET_STD\n",
    "    elif source == 'cifar':\n",
    "        mean = CIFAR_MEAN\n",
    "        std = CIFAR_STD\n",
    "    elif source == 'mnist':\n",
    "        mean = MNIST_MEAN\n",
    "        std = MNIST_STD\n",
    "    im_as_arr = np.float32(cv2im)\n",
    "    im_as_arr = np.ascontiguousarray(im_as_arr[..., ::-1])\n",
    "    im_as_arr = im_as_arr.transpose(2, 0, 1)\n",
    "    for channel, _ in enumerate(im_as_arr):\n",
    "        im_as_arr[channel] /= 255\n",
    "        im_as_arr[channel] -= mean[channel]\n",
    "        im_as_arr[channel] /= std[channel]\n",
    "    im_as_ten = torch.from_numpy(im_as_arr).float()\n",
    "    im_as_ten.unsqueeze_(0)\n",
    "    im_as_var = Variable(im_as_ten, requires_grad=True)\n",
    "    return im_as_var\n",
    "\n",
    "\n",
    "def recreate_image(im_as_var,source='cifar'):\n",
    "    if source == 'imagenet':\n",
    "        mean = IMAGENET_MEAN\n",
    "        std = IMAGENET_STD\n",
    "    elif source == 'cifar':\n",
    "        mean = CIFAR_MEAN\n",
    "        std = CIFAR_STD\n",
    "    elif source == 'mnist':\n",
    "        mean = MNIST_MEAN\n",
    "        std = MNIST_STD\n",
    "    recreated_im = copy.copy(im_as_var.data.numpy()[0])\n",
    "    for c in range(3):\n",
    "        recreated_im[c] *= std[c]\n",
    "        recreated_im[c] += mean[c]\n",
    "    recreated_im[recreated_im > 1] = 1\n",
    "    recreated_im[recreated_im < 0] = 0\n",
    "    recreated_im = np.round(recreated_im * 255)\n",
    "\n",
    "    recreated_im = np.uint8(recreated_im).transpose(1, 2, 0)\n",
    "\n",
    "    recreated_im = recreated_im[..., ::-1]\n",
    "    return recreated_im\n",
    "\n",
    "\n",
    "def get_params(original_image):\n",
    "    prep_img = preprocess_image(original_image)\n",
    "    return (original_image,\n",
    "            prep_img)\n"
   ]
  },
  {
   "cell_type": "code",
   "execution_count": 4,
   "metadata": {},
   "outputs": [],
   "source": [
    "def get_params_img(example_index):\n",
    "    s = \"%08d\" % example_index\n",
    "    img_path = sys.path[0]+'/../ILSVRC2012_img_val/ILSVRC2012_val_'+ s +'.JPEG'\n",
    "    original_image = cv2.imread(img_path, 1)\n",
    "    prep_img = preprocess_image(original_image,'imagenet')\n",
    "    \n",
    "    return (original_image,\n",
    "            prep_img)\n"
   ]
  },
  {
   "cell_type": "code",
   "execution_count": 5,
   "metadata": {},
   "outputs": [],
   "source": [
    "class cifar(torch.utils.data.Dataset):\n",
    "    def __init__(self,data,label):\n",
    "        self.images=data\n",
    "        self.labels=torch.LongTensor(label)\n",
    "    def __getitem__(self,index):\n",
    "        img=self.images[index]\n",
    "        img2=preprocess_image(img,source='cifar')\n",
    "        label = self.labels[index]\n",
    "        return img2, label\n",
    "\n",
    "    def __len__(self):\n",
    "        return (self.images.shape[0])\n",
    "\n",
    "\n",
    "class FastGradientSignUntargeted():\n",
    "    def __init__(self, model, alpha):\n",
    "        self.model = model\n",
    "        self.model.eval()\n",
    "        self.alpha = alpha\n",
    "\n",
    "    def generate(self, original_image, org_class, example_number,minimum=0.95):\n",
    "        im_label_as_var = Variable(torch.from_numpy(np.asarray([org_class])))\n",
    "        ce_loss = nn.CrossEntropyLoss()\n",
    "        processed_image = preprocess_image(original_image)\n",
    "        for i in range(30):\n",
    "            processed_image.grad = None\n",
    "            out = self.model(processed_image)\n",
    "            pred_loss = -ce_loss(out, im_label_as_var)\n",
    "            pred_loss.backward()\n",
    "            adv_noise = self.alpha * torch.sign(processed_image.grad.data)\n",
    "            processed_image.data = processed_image.data - adv_noise\n",
    "\n",
    "            recreated_image = recreate_image(processed_image)\n",
    "            prep_confirmation_image = preprocess_image(recreated_image)\n",
    "            confirmation_out = self.model(prep_confirmation_image)\n",
    "            _, confirmation_prediction = confirmation_out.data.max(1)\n",
    "            confirmation_confidence = \\\n",
    "                nn.functional.softmax(confirmation_out,dim=1)[0][confirmation_prediction].data.numpy()[0]\n",
    "            confirmation_prediction = confirmation_prediction.numpy()[0]\n",
    "            if (confirmation_prediction != org_class) and (confirmation_confidence>minimum):\n",
    "                noise_image = original_image - recreated_image\n",
    "                return i+1\n",
    "\n",
    "        return 0\n",
    "\n"
   ]
  },
  {
   "cell_type": "code",
   "execution_count": 6,
   "metadata": {},
   "outputs": [],
   "source": [
    "class FastGradientSignUntargeted_img():\n",
    "    def __init__(self, model, alpha):\n",
    "        self.model = model\n",
    "        self.model.eval()\n",
    "        self.alpha = alpha\n",
    "\n",
    "    def generate(self, original_image, org_class, example_number,minimum=0.95):\n",
    "        im_label_as_var = Variable(torch.from_numpy(np.asarray([org_class])))\n",
    "        ce_loss = nn.CrossEntropyLoss()\n",
    "        processed_image = preprocess_image(original_image)\n",
    "        for i in range(30):\n",
    "            processed_image.grad = None\n",
    "            out = self.model(processed_image)\n",
    "            pred_loss = -ce_loss(out, im_label_as_var)\n",
    "            pred_loss.backward()\n",
    "            adv_noise = self.alpha * torch.sign(processed_image.grad.data)\n",
    "            processed_image.data = processed_image.data - adv_noise\n",
    "\n",
    "            recreated_image = recreate_image(processed_image)\n",
    "            prep_confirmation_image = preprocess_image(recreated_image)\n",
    "            confirmation_out = self.model(prep_confirmation_image)\n",
    "            _, confirmation_prediction = confirmation_out.data.max(1)\n",
    "            confirmation_confidence = \\\n",
    "                nn.functional.softmax(confirmation_out,dim=1)[0][confirmation_prediction].data.numpy()[0]\n",
    "            confirmation_prediction = confirmation_prediction.numpy()[0]\n",
    "            if (confirmation_prediction != org_class) and (confirmation_confidence>minimum):\n",
    "                noise_image = original_image - recreated_image\n",
    "                return i+1\n",
    "\n",
    "        return 0\n",
    "\n"
   ]
  },
  {
   "cell_type": "code",
   "execution_count": 7,
   "metadata": {
    "scrolled": true
   },
   "outputs": [],
   "source": [
    "def cf10():\n",
    "    pretrained_model = cifar10_models.vgg16_bn(pretrained=True)\n",
    "    cat2lab=np.load(sys.path[0]+'/label.npy').item()\n",
    "    FGS_untargeted=FastGradientSignUntargeted(pretrained_model,0.1)\n",
    "    for index in range(1,2):\n",
    "        ima=np.load(sys.path[0]+\"/../data/databatch\"+str(index)+\".npy\")\n",
    "        lab=np.load(sys.path[0]+\"/../data/label\"+str(index)+\".npy\")\n",
    "        for i in tqdm(range(500)):\n",
    "            inputs=ima[i]\n",
    "            labels=lab[i]\n",
    "            (original_image, prep_img) = get_params(inputs)\n",
    "            org_out=pretrained_model(prep_img)\n",
    "            _,org_class=org_out.data.max(1)\n",
    "            org_confidence=nn.functional.softmax(org_out,dim=1)[0][org_class].data.numpy()[0]\n",
    "            org_class=org_class.numpy()[0]\n",
    "            \n",
    "            tmp=FGS_untargeted.generate(original_image, org_class,int(labels))\n",
    "            CF.append(tmp)\n",
    "            "
   ]
  },
  {
   "cell_type": "code",
   "execution_count": 8,
   "metadata": {},
   "outputs": [],
   "source": [
    "def img():\n",
    "    pretrained_model = models.vgg16(pretrained=True)\n",
    "    FGS_untargeted=FastGradientSignUntargeted_img(pretrained_model,0.1)\n",
    "    for i in tqdm(range(500)):\n",
    "        target_example = i+1\n",
    "        (original_image, prep_img) = get_params_img(target_example)\n",
    "        \n",
    "        label=np.load(sys.path[0]+'/label.npy').item()\n",
    "        org_out=pretrained_model(prep_img)\n",
    "        _,org_class=org_out.data.max(1)\n",
    "        org_confidence=nn.functional.softmax(org_out,dim=1)[0][org_class].data.numpy()[0]\n",
    "        org_class=org_class.numpy()[0]\n",
    "        tmp=FGS_untargeted.generate(original_image, org_class,target_example)\n",
    "        IMG.append(tmp)"
   ]
  },
  {
   "cell_type": "code",
   "execution_count": 9,
   "metadata": {},
   "outputs": [
    {
     "name": "stderr",
     "output_type": "stream",
     "text": [
      "100%|██████████| 500/500 [11:44<00:00,  1.32s/it]\n",
      "100%|██████████| 500/500 [3:15:52<00:00, 78.30s/it]    \n",
      "/Users/kyle/anaconda3/lib/python3.7/site-packages/matplotlib/backends/backend_agg.py:211: RuntimeWarning: Glyph 36845 missing from current font.\n",
      "  font.set_text(s, 0.0, flags=flags)\n",
      "/Users/kyle/anaconda3/lib/python3.7/site-packages/matplotlib/backends/backend_agg.py:211: RuntimeWarning: Glyph 20195 missing from current font.\n",
      "  font.set_text(s, 0.0, flags=flags)\n",
      "/Users/kyle/anaconda3/lib/python3.7/site-packages/matplotlib/backends/backend_agg.py:176: RuntimeWarning: Glyph 36845 missing from current font.\n",
      "  font.load_char(ord(s), flags=flags)\n",
      "/Users/kyle/anaconda3/lib/python3.7/site-packages/matplotlib/backends/backend_agg.py:176: RuntimeWarning: Glyph 20195 missing from current font.\n",
      "  font.load_char(ord(s), flags=flags)\n"
     ]
    },
    {
     "data": {
      "image/png": "[encoded data removed]",
      "text/plain": [
       "<Figure size 432x288 with 1 Axes>"
      ]
     },
     "metadata": {
      "needs_background": "light"
     },
     "output_type": "display_data"
    },
    {
     "ename": "NameError",
     "evalue": "name 'mean' is not defined",
     "output_type": "error",
     "traceback": [
      "\u001b[0;31m---------------------------------------------------------------------------\u001b[0m",
      "\u001b[0;31mNameError\u001b[0m                                 Traceback (most recent call last)",
      "\u001b[0;32m<ipython-input-9-8ddbb093b55f>\u001b[0m in \u001b[0;36m<module>\u001b[0;34m\u001b[0m\n\u001b[1;32m     10\u001b[0m \u001b[0mplt\u001b[0m\u001b[0;34m.\u001b[0m\u001b[0mlegend\u001b[0m\u001b[0;34m(\u001b[0m\u001b[0;34m\"迭代次数\"\u001b[0m\u001b[0;34m)\u001b[0m\u001b[0;31m#图例\u001b[0m\u001b[0;34m\u001b[0m\u001b[0;34m\u001b[0m\u001b[0m\n\u001b[1;32m     11\u001b[0m \u001b[0mplt\u001b[0m\u001b[0;34m.\u001b[0m\u001b[0mshow\u001b[0m\u001b[0;34m(\u001b[0m\u001b[0;34m)\u001b[0m\u001b[0;34m\u001b[0m\u001b[0;34m\u001b[0m\u001b[0m\n\u001b[0;32m---> 12\u001b[0;31m \u001b[0mprint\u001b[0m\u001b[0;34m(\u001b[0m\u001b[0mmean\u001b[0m\u001b[0;34m(\u001b[0m\u001b[0mCF\u001b[0m\u001b[0;34m)\u001b[0m\u001b[0;34m)\u001b[0m\u001b[0;34m\u001b[0m\u001b[0;34m\u001b[0m\u001b[0m\n\u001b[0m\u001b[1;32m     13\u001b[0m \u001b[0mprint\u001b[0m\u001b[0;34m(\u001b[0m\u001b[0mmean\u001b[0m\u001b[0;34m(\u001b[0m\u001b[0mIMG\u001b[0m\u001b[0;34m)\u001b[0m\u001b[0;34m)\u001b[0m\u001b[0;34m\u001b[0m\u001b[0;34m\u001b[0m\u001b[0m\n",
      "\u001b[0;31mNameError\u001b[0m: name 'mean' is not defined"
     ]
    }
   ],
   "source": [
    "cf10()\n",
    "img()"
   ]
  },
  {
   "cell_type": "code",
   "execution_count": 12,
   "metadata": {},
   "outputs": [
    {
     "data": {
      "image/png": "[encoded data removed]",
      "text/plain": [
       "<Figure size 432x288 with 1 Axes>"
      ]
     },
     "metadata": {
      "needs_background": "light"
     },
     "output_type": "display_data"
    },
    {
     "name": "stdout",
     "output_type": "stream",
     "text": [
      "2.482\n",
      "3.992\n"
     ]
    }
   ],
   "source": [
    "xi=[]\n",
    "for i in range(500):\n",
    "    xi.append(i)\n",
    "plt.plot(xi,CF,'s-',color = 'r',label='cifar10')\n",
    "plt.plot(xi,IMG,'o-',color = 'g',label='imagenet')\n",
    "plt.xlabel(\"image\")\n",
    "plt.ylabel(\"times\")\n",
    "plt.legend(\"迭代次数\")\n",
    "plt.show()\n",
    "print(mean(CF))\n",
    "print(mean(IMG))"
   ]
  },
  {
   "cell_type": "code",
   "execution_count": 7,
   "metadata": {},
   "outputs": [],
   "source": [
    "vgg19_CF=[]\n",
    "vgg19_IMG=[]"
   ]
  },
  {
   "cell_type": "code",
   "execution_count": null,
   "metadata": {},
   "outputs": [
    {
     "name": "stderr",
     "output_type": "stream",
     "text": [
      "100%|██████████| 500/500 [05:11<00:00,  1.60it/s]\n",
      " 38%|███▊      | 192/500 [1:02:11<1:06:59, 13.05s/it]"
     ]
    }
   ],
   "source": [
    "if __name__ == '__main__':\n",
    "    pretrained_model = cifar10_models.vgg19_bn(pretrained=True)\n",
    "    cat2lab=np.load(sys.path[0]+'/label.npy').item()\n",
    "    FGS_untargeted=FastGradientSignUntargeted(pretrained_model,0.1)\n",
    "    ima=np.load(sys.path[0]+\"/../data/databatch\"+str(1)+\".npy\")\n",
    "    lab=np.load(sys.path[0]+\"/../data/label\"+str(1)+\".npy\")\n",
    "    ii=[i for i in range(500)]\n",
    "    def sol1(i):\n",
    "        inputs=ima[i]\n",
    "        labels=lab[i]\n",
    "        (original_image, prep_img) = get_params(inputs)\n",
    "        org_out=pretrained_model(prep_img)\n",
    "        _,org_class=org_out.data.max(1)\n",
    "        org_confidence=nn.functional.softmax(org_out,dim=1)[0][org_class].data.numpy()[0]\n",
    "        org_class=org_class.numpy()[0]\n",
    "        return FGS_untargeted.generate(original_image, org_class,int(labels))\n",
    "    \n",
    "    pool = multiprocessing.Pool(processes=4)\n",
    "    vgg19_CF=list(tqdm(pool.imap(sol1,ii),total=500))\n",
    "    pool.close()\n",
    "    pool.join()\n",
    "    pretrained_model = models.vgg19(pretrained=True)\n",
    "    FGS_untargeted=FastGradientSignUntargeted_img(pretrained_model,0.1)\n",
    "    #ii=[i for i in range(500)]\n",
    "    \n",
    "    def sol2(i):\n",
    "        target_example = i+1\n",
    "        (original_image, prep_img) = get_params_img(target_example)\n",
    "        \n",
    "        org_out=pretrained_model(prep_img)\n",
    "        _,org_class=org_out.data.max(1)\n",
    "        org_confidence=nn.functional.softmax(org_out,dim=1)[0][org_class].data.numpy()[0]\n",
    "        org_class=org_class.numpy()[0]\n",
    "        return FGS_untargeted.generate(original_image, org_class,target_example)\n",
    "    \n",
    "    pool = multiprocessing.Pool(processes=2)\n",
    "    vgg19_IMG=list(tqdm(pool.imap(sol2,ii),total=500))\n",
    "    pool.close()\n",
    "    pool.join()\n",
    "    \n"
   ]
  },
  {
   "cell_type": "code",
   "execution_count": null,
   "metadata": {},
   "outputs": [],
   "source": [
    "xi=[]\n",
    "for i in range(500):\n",
    "    xi.append(i)\n",
    "plt.plot(xi,vgg19_CF,'s-',color = 'r',label='cifar10')\n",
    "plt.plot(xi,vgg19_IMG,'o-',color = 'g',label='imagenet')\n",
    "plt.xlabel(\"vgg19\")\n",
    "plt.ylabel(\"times\")\n",
    "plt.legend(\"迭代次数\")\n",
    "plt.show()\n",
    "print(mean(vgg19_CF))\n",
    "print(mean(vgg19_IMG))"
   ]
  },
  {
   "cell_type": "code",
   "execution_count": null,
   "metadata": {},
   "outputs": [],
   "source": []
  }
 ],
 "metadata": {
  "kernelspec": {
   "display_name": "Python 3",
   "language": "python",
   "name": "python3"
  },
  "language_info": {
   "codemirror_mode": {
    "name": "ipython",
    "version": 3
   },
   "file_extension": ".py",
   "mimetype": "text/x-python",
   "name": "python",
   "nbconvert_exporter": "python",
   "pygments_lexer": "ipython3",
   "version": "3.7.3"
  }
 },
 "nbformat": 4,
 "nbformat_minor": 2
}
